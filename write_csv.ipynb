{
 "cells": [
  {
   "cell_type": "code",
   "execution_count": 2,
   "metadata": {},
   "outputs": [],
   "source": [
    "import h5py\n",
    "\n",
    "import csv"
   ]
  },
  {
   "cell_type": "code",
   "execution_count": 3,
   "metadata": {},
   "outputs": [
    {
     "name": "stdout",
     "output_type": "stream",
     "text": [
      "food_c101_n10099_r64x64x3.h5 keys: <KeysViewHDF5 ['category', 'category_names', 'images']>\n"
     ]
    }
   ],
   "source": [
    "filename = 'food_c101_n10099_r64x64x3.h5'\n",
    "# filename = 'food_c101_n1000_r384x384x3.h5'\n",
    "\n",
    "with h5py.File(filename, 'r') as f:\n",
    "\n",
    "    print(\"{} keys: {}\".format(filename, f.keys()))\n",
    "\n",
    "    one_hot_vectors = f['category'][()]\n",
    "    byte_class_names = f['category_names'][()]\n",
    "    imgs_int = f['images'][()]"
   ]
  },
  {
   "cell_type": "code",
   "execution_count": 11,
   "metadata": {},
   "outputs": [],
   "source": [
    "class_names = [class_name.decode('utf-8') for class_name in byte_class_names]\n",
    "\n",
    "with open('class.csv', 'w') as file:\n",
    "    csv_writer = csv.writer(file)\n",
    "    for name in class_names:\n",
    "        csv_writer.writerow([name])"
   ]
  },
  {
   "cell_type": "code",
   "execution_count": 8,
   "metadata": {},
   "outputs": [
    {
     "data": {
      "text/plain": [
       "'apple_pie'"
      ]
     },
     "execution_count": 8,
     "metadata": {},
     "output_type": "execute_result"
    }
   ],
   "source": [
    "class_names[0]"
   ]
  },
  {
   "cell_type": "code",
   "execution_count": null,
   "metadata": {},
   "outputs": [],
   "source": []
  }
 ],
 "metadata": {
  "kernelspec": {
   "display_name": "Python 3",
   "language": "python",
   "name": "python3"
  },
  "language_info": {
   "codemirror_mode": {
    "name": "ipython",
    "version": 3
   },
   "file_extension": ".py",
   "mimetype": "text/x-python",
   "name": "python",
   "nbconvert_exporter": "python",
   "pygments_lexer": "ipython3",
   "version": "3.7.5"
  }
 },
 "nbformat": 4,
 "nbformat_minor": 2
}
